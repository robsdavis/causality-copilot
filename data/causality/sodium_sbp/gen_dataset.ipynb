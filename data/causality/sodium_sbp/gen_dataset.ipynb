{
 "cells": [
  {
   "cell_type": "code",
   "execution_count": null,
   "metadata": {},
   "outputs": [
    {
     "name": "stdout",
     "output_type": "stream",
     "text": [
      "   sbp_in_mmHg  hypertension  Sodium  Age_years  Proteinuria_in_mg\n",
      "0   124.908993             0       0  62.658956         249.658095\n",
      "1   122.407913             0       0  60.885876         245.098074\n",
      "2   129.439669             0       1  64.673099         260.405153\n",
      "3   121.543446             0       1  61.433190         246.059843\n",
      "4   139.261665             0       1  69.531754         282.043530\n"
     ]
    }
   ],
   "source": [
    "import numpy as np\n",
    "import pandas as pd\n",
    "\n",
    "# Function to generate data\n",
    "def generate_data(n, seed):\n",
    "    np.random.seed(seed)\n",
    "\n",
    "    sodium_coeff = 1.05\n",
    "\n",
    "    # Generate data\n",
    "    Age_years = np.random.normal(65, 5, n)\n",
    "\n",
    "    Sodium_gr = Age_years / 18 + np.random.normal(0, 1, n)\n",
    "    # Compute the median of Sodium_gr\n",
    "    median_value = np.median(Sodium_gr)\n",
    "    # Convert Sodium_gr to binary values based on the median\n",
    "    Sodium_gr = (Sodium_gr > median_value).astype(int)\n",
    "\n",
    "    sbp_in_mmHg = sodium_coeff * Sodium_gr + 2.00 * Age_years + np.random.normal(0, 1, n)\n",
    "    hypertension = np.where(sbp_in_mmHg > 140, 1, 0)\n",
    "    Proteinuria_in_mg = 2.00 * sbp_in_mmHg + 2.80 * Sodium_gr + np.random.normal(0, 1, n)\n",
    "\n",
    "    gt_treatment_effect = np.full(n, sodium_coeff)\n",
    "\n",
    "    # Combine into a DataFrame\n",
    "    df = pd.DataFrame({\n",
    "        'sbp_in_mmHg': sbp_in_mmHg,\n",
    "        'hypertension': hypertension,\n",
    "        'Sodium': Sodium_gr,\n",
    "        'Age_years': Age_years,\n",
    "        'Proteinuria_in_mg': Proteinuria_in_mg,\n",
    "        \"gt_treatment_effect\": gt_treatment_effect,\n",
    "    })\n",
    "\n",
    "    return df\n",
    "\n",
    "# Generate data with specified parameters\n",
    "ObsData = generate_data(n=1000, seed=777)\n",
    "# ObsData.to_csv(\"synthetic_hypertension_sodium_binary_data_no_gt.csv\", index=False)\n",
    "\n",
    "# Display the first few rows of the generated data\n",
    "print(ObsData.head())"
   ]
  },
  {
   "cell_type": "code",
   "execution_count": 5,
   "metadata": {},
   "outputs": [
    {
     "data": {
      "text/plain": [
       "<Axes: >"
      ]
     },
     "execution_count": 5,
     "metadata": {},
     "output_type": "execute_result"
    },
    {
     "data": {
      "image/png": "[encoded data removed]",
      "text/plain": [
       "<Figure size 640x480 with 1 Axes>"
      ]
     },
     "metadata": {},
     "output_type": "display_data"
    }
   ],
   "source": [
    "ObsData[\"Sodium\"].hist()"
   ]
  }
 ],
 "metadata": {
  "kernelspec": {
   "display_name": "causal_climb",
   "language": "python",
   "name": "python3"
  },
  "language_info": {
   "codemirror_mode": {
    "name": "ipython",
    "version": 3
   },
   "file_extension": ".py",
   "mimetype": "text/x-python",
   "name": "python",
   "nbconvert_exporter": "python",
   "pygments_lexer": "ipython3",
   "version": "3.10.16"
  }
 },
 "nbformat": 4,
 "nbformat_minor": 2
}
